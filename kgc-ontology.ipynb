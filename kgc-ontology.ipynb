{
 "cells": [
  {
   "cell_type": "code",
   "execution_count": 13,
   "metadata": {},
   "outputs": [],
   "source": [
    "from rdflib import URIRef, BNode, Literal, Graph, plugin, Namespace\n",
    "from rdflib.serializer import Serializer \n",
    "from rdflib.namespace import FOAF, DC, RDF, RDFS, OWL, SKOS, XSD, NamespaceManager\n",
    "\n",
    "from rdflib.extras.infixowl import EnumeratedClass, Individual\n",
    "from rdflib.collection import Collection\n",
    "from rdflib.util import first\n",
    "\n",
    "import csv"
   ]
  },
  {
   "cell_type": "code",
   "execution_count": null,
   "metadata": {},
   "outputs": [],
   "source": []
  },
  {
   "cell_type": "markdown",
   "metadata": {},
   "source": [
    "## Create the Ontology"
   ]
  },
  {
   "cell_type": "code",
   "execution_count": 2,
   "metadata": {},
   "outputs": [],
   "source": [
    "ontoGraph = Graph()"
   ]
  },
  {
   "cell_type": "code",
   "execution_count": 14,
   "metadata": {},
   "outputs": [],
   "source": [
    "nmGraph = NamespaceManager(ontoGraph)\n",
    "kgc = Namespace(\"http://www.knowledgegraph.tech/\")\n",
    "nmGraph.bind(\"kgc\", kgc)\n",
    "schema = Namespace(\"http://schema.org/\")\n",
    "nmGraph.bind(\"schema\", schema)\n",
    "wd = Namespace(\"http://www.wikidata.org/entity/\")\n",
    "nmGraph.bind(\"wd\", wd)\n",
    "owl = Namespace(\"http://www.w3.org/2002/07/owl#\")\n",
    "nmGraph.bind(\"owl\", owl)\n",
    "skos = Namespace(\"http://www.w3.org/2004/02/skos/core#\")\n",
    "nmGraph.bind(\"skos\", skos)\n",
    "rdf = Namespace(\"http://www.w3.org/1999/02/22-rdf-syntax-ns#\")\n",
    "nmGraph.bind(\"rdf\", rdf)\n",
    "rdfs = Namespace(\"http://www.w3.org/2000/01/rdf-schema#\")\n",
    "nmGraph.bind(\"rdfs\", rdfs)\n",
    "xml = Namespace(\"http://www.w3.org/XML/1998/namespace\")\n",
    "nmGraph.bind(\"xml\", xml) \n",
    "xsd = Namespace(\"http://www.w3.org/2001/XMLSchema#\")\n",
    "nmGraph.bind(\"xsd\", xsd) "
   ]
  },
  {
   "cell_type": "markdown",
   "metadata": {},
   "source": [
    "## Create Ontology Labels"
   ]
  },
  {
   "cell_type": "code",
   "execution_count": 10,
   "metadata": {},
   "outputs": [],
   "source": [
    "# Test this later on\n",
    "#ontoGraph.add((kgc, RDF.type, OWL.Ontology))\n",
    "#ontoGraph.add((kgc, RDFS.comment, Literal('Created By Bita')))\n",
    "#ontoGraph.add((kgc, OWL.versionInfo, Literal('1.0')))\n",
    "\n",
    "# ontoGraph.add((kgc?, RDFS.label, \"Knowledge Graph Conference Ontology\"))\n",
    "# ontoGraph.add((kgc?, DC.creator, \"Bita Banihashemi\"))\n",
    "\n",
    "#<http://www.knowledgegraph.tech> rdf:type owl:Ontology ;\n",
    "#                                  rdfs:comment \"\"\"Designed By Bita Banihashemi\n",
    "# https://www.linkedin.com/in/bitabanihashemi/\n",
    "#Email: firstName DOT lastName AT gmail DOT com\"\"\" ;\n",
    "#                                  rdfs:label \"Knowledge Graph Conference Ontology\" ;\n",
    "#                                  owl:versionInfo 1.0 .\n",
    "\n"
   ]
  },
  {
   "cell_type": "markdown",
   "metadata": {},
   "source": [
    "## Create the classes/types"
   ]
  },
  {
   "cell_type": "code",
   "execution_count": 11,
   "metadata": {},
   "outputs": [
    {
     "data": {
      "text/plain": [
       "<Graph identifier=Nad5c7fef40444ba898f2020b172f19ad (<class 'rdflib.graph.Graph'>)>"
      ]
     },
     "execution_count": 11,
     "metadata": {},
     "output_type": "execute_result"
    }
   ],
   "source": [
    "# Creative Work -------------------------------------------------------------------------------\n",
    "\n",
    "# Which case to use?\n",
    "\n",
    "ontoGraph.add((schema.CreativeWork, RDF.type, OWL.Class))\n",
    "\n",
    "ontoGraph.add((schema.DigitalDocument, RDF.type, OWL.Class))\n",
    "ontoGraph.add((schema.DigitalDocument, RDFS.subClassOf, schema.CreativeWork))\n",
    "\n",
    "ontoGraph.add((schema.MediaObject, RDF.type, OWL.Class))\n",
    "ontoGraph.add((schema.MediaObject, RDFS.subClassOf, schema.CreativeWork))\n",
    "\n",
    "ontoGraph.add((schema.PresentationDigitalDocument, RDF.type, OWL.Class))\n",
    "ontoGraph.add((schema.PresentationDigitalDocument, RDFS.subClassOf, schema.DigitalDocument))\n",
    "\n",
    "ontoGraph.add((schema.VideoObject, RDF.type, OWL.Class))\n",
    "ontoGraph.add((schema.VideoObject, RDFS.subClassOf, schema.MediaObject))\n",
    "\n",
    "\n",
    "\n",
    "# Organization ------------------------------------------------------------------------------\n",
    "ontoGraph.add((schema.Organization, RDF.type, OWL.Class))\n",
    "\n",
    "ontoGraph.add((schema.EducationalOrganization, RDF.type, OWL.Class))\n",
    "ontoGraph.add((schema.EducationalOrganization, RDFS.subClassOf, schema.Organization))\n",
    "\n",
    "ontoGraph.add((schema.Consortium, RDF.type, OWL.Class))\n",
    "ontoGraph.add((schema.Consortium, RDFS.subClassOf, schema.Organization))\n",
    "\n",
    "ontoGraph.add((schema.CollegeOrUniversity, RDF.type, OWL.Class))\n",
    "ontoGraph.add((schema.CollegeOrUniversity, RDFS.subClassOf, schema.EducationalOrganization))\n",
    "\n",
    "\n",
    "# Event ------------------------------------------------------------------------------\n",
    "ontoGraph.add((schema.Event, RDF.type, OWL.Class))\n",
    "\n",
    "ontoGraph.add((schema.EventSeries, RDF.type, OWL.Class))\n",
    "ontoGraph.add((schema.EventSeries, RDFS.subClassOf, schema.Event))\n",
    "\n",
    "ontoGraph.add((kgc.Conference, RDF.type, OWL.Class))\n",
    "ontoGraph.add((kgc.Conference, RDFS.subClassOf, schema.Event))\n",
    "\n",
    "ontoGraph.add((kgc.Workshop, RDF.type, OWL.Class))\n",
    "ontoGraph.add((kgc.Workshop, RDFS.subClassOf, schema.Event))\n",
    "\n",
    "ontoGraph.add((kgc.Tutorial, RDF.type, OWL.Class))\n",
    "ontoGraph.add((kgc.Tutorial, RDFS.subClassOf, schema.Event))\n",
    "\n",
    "ontoGraph.add((kgc.Talk, RDF.type, OWL.Class))\n",
    "ontoGraph.add((kgc.Talk, RDFS.subClassOf, schema.Event))\n",
    "\n",
    "\n",
    "#  Person ------------------------------------------------------------------------------\n",
    "ontoGraph.add((schema.Person, RDF.type, OWL.Class))\n",
    "\n",
    "\n",
    "#  Place ------------------------------------------------------------------------------\n",
    "ontoGraph.add((schema.Place, RDF.type, OWL.Class))\n",
    "\n",
    "ontoGraph.add((schema.AdministrativeArea, RDF.type, OWL.Class))\n",
    "ontoGraph.add((schema.AdministrativeArea, RDFS.subClassOf, schema.Place))\n",
    "\n",
    "ontoGraph.add((schema.City, RDF.type, OWL.Class))\n",
    "ontoGraph.add((schema.City, RDFS.subClassOf, schema.AdministrativeArea))\n",
    "\n",
    "ontoGraph.add((schema.State, RDF.type, OWL.Class))\n",
    "ontoGraph.add((schema.State, RDFS.subClassOf, schema.AdministrativeArea))\n",
    "\n",
    "ontoGraph.add((schema.Country, RDF.type, OWL.Class))\n",
    "ontoGraph.add((schema.Country, RDFS.subClassOf, schema.AdministrativeArea))\n",
    "\n",
    "\n",
    "\n",
    "ontoGraph.add((schema.CivicStructure, RDF.type, OWL.Class))\n",
    "ontoGraph.add((schema.CivicStructure, RDFS.subClassOf, schema.Place))\n",
    "\n",
    "ontoGraph.add((schema.EducationalOrganization, RDFS.subClassOf, schema.CivicStructure))\n",
    "\n",
    "\n",
    "\n",
    "#  Concepts ------------------------------------------------------------------------------\n",
    "# Note that this temporary, I may need to break it dow into several other classes/types\n",
    "ontoGraph.add((skos.Concept, RDF.type, OWL.Class))\n",
    "\n",
    "\n",
    "#  WIkiData -----------------------------------------------------------------------------\n",
    "# Note that this temporary, I may need to break it dow into several other classes/types\n",
    "#ontoGraph.add((kgc.Wiki, RDF.type, OWL.Class))\n",
    "\n",
    "# Intangibles ---------------------------------------------------------------------------\n",
    "ontoGraph.add((schema.Intangible, RDF.type, OWL.Class))\n",
    "\n",
    "ontoGraph.add((schema.Enumeration, RDF.type, OWL.Class))\n",
    "ontoGraph.add((schema.Enumeration, RDFS.subClassOf, schema.Intangible))\n",
    "\n",
    "# Attendance Mode\n",
    "ontoGraph.add((schema.EventAttendanceModeEnumeration, RDF.type, OWL.Class))\n",
    "\n",
    "\n",
    "Individual.factoryGraph = ontoGraph\n",
    "EventAttendanceModeEnumeration = EnumeratedClass(schema.EventAttendanceModeEnumeration, members=[schema.MixedEventAttendanceMode,\n",
    "                                                      schema.OfflineEventAttendanceMode,\n",
    "                                                      schema.OnlineEventAttendanceMode])\n",
    "\n",
    "colAt = Collection(ontoGraph, first(ontoGraph.objects(predicate=OWL.oneOf, subject=EventAttendanceModeEnumeration.identifier)))\n",
    "\n",
    "ontoGraph.add((schema.EventAttendanceModeEnumeration, RDFS.subClassOf, schema.Enumeration))\n",
    "\n",
    "# ----------------------------------------------------------\n"
   ]
  },
  {
   "cell_type": "code",
   "execution_count": null,
   "metadata": {},
   "outputs": [],
   "source": []
  },
  {
   "cell_type": "markdown",
   "metadata": {},
   "source": [
    "## Create the properties"
   ]
  },
  {
   "cell_type": "code",
   "execution_count": 15,
   "metadata": {},
   "outputs": [
    {
     "data": {
      "text/plain": [
       "<Graph identifier=Nad5c7fef40444ba898f2020b172f19ad (<class 'rdflib.graph.Graph'>)>"
      ]
     },
     "execution_count": 15,
     "metadata": {},
     "output_type": "execute_result"
    }
   ],
   "source": [
    "# Object Properties -------------------------------------------------------------------------\n",
    "# This needs to be checked again \n",
    "\n",
    "ontoGraph.add((schema.alumniOf, RDF.type, OWL.ObjectProperty))\n",
    "ontoGraph.add((schema.alumniOf, RDF.type, OWL.FunctionalProperty))\n",
    "ontoGraph.add((schema.alumniOf, RDFS.domain, schema.Person))\n",
    "ontoGraph.add((schema.alumniOf, RDFS.range, schema.CollegeOrUniversity))\n",
    "\n",
    "ontoGraph.add((schema.geoWithin, RDF.type, OWL.ObjectProperty))\n",
    "# Check why or why not functional\n",
    "ontoGraph.add((schema.geoWithin, RDFS.domain, schema.Place))\n",
    "ontoGraph.add((schema.geoWithin, RDFS.range, schema.AdministrativeArea))\n",
    "\n",
    "\n",
    "ontoGraph.add((schema.industry, RDF.type, OWL.ObjectProperty))\n",
    "\n",
    "ontoGraph.add((schema.knowsAbout, RDF.type, OWL.ObjectProperty))\n",
    "\n",
    "\n",
    "ontoGraph.add((schema.location, RDF.type, OWL.ObjectProperty))\n",
    "ontoGraph.add((schema.location, RDFS.domain, schema.Organization))\n",
    "ontoGraph.add((schema.location, RDFS.range, schema.AdministrativeArea))\n",
    "\n",
    "\n",
    "ontoGraph.add((schema.memberOf, RDF.type, OWL.ObjectProperty))\n",
    "ontoGraph.add((schema.memberOf, RDFS.range, schema.Organization))\n",
    "\n",
    "ontoGraph.add((schema.nationality, RDF.type, OWL.ObjectProperty))\n",
    "ontoGraph.add((schema.nationality, RDFS.domain, schema.Person))\n",
    "ontoGraph.add((schema.nationality, RDFS.range, schema.Country))\n",
    "\n",
    "ontoGraph.add((schema.performer, RDF.type, OWL.ObjectProperty))\n",
    "ontoGraph.add((schema.performer, RDFS.domain, schema.Event))\n",
    "ontoGraph.add((schema.performer, RDFS.range, schema.Person))\n",
    "\n",
    "\n",
    "ontoGraph.add((schema.worksfor, RDF.type, OWL.ObjectProperty))\n",
    "ontoGraph.add((schema.worksfor, RDFS.domain, schema.Person))\n",
    "ontoGraph.add((schema.worksfor, RDFS.range, schema.Organization))\n",
    "\n",
    "ontoGraph.add((skos.broader, RDF.type, OWL.ObjectProperty))\n",
    "\n",
    "ontoGraph.add((skos.narrower, RDF.type, OWL.ObjectProperty))\n",
    "\n",
    "ontoGraph.add((schema.superEvent, RDF.type, OWL.ObjectProperty))\n",
    "ontoGraph.add((schema.worksfor, RDFS.domain, schema.Event))\n",
    "ontoGraph.add((schema.worksfor, RDFS.range, schema.Event))\n",
    "\n",
    "\n",
    "ontoGraph.add((schema.eventAttendanceMode, RDF.type, OWL.ObjectProperty))\n",
    "ontoGraph.add((schema.eventAttendanceMode, RDFS.domain, schema.Event))\n",
    "ontoGraph.add((schema.eventAttendanceMode, RDFS.range, schema.EventAttendanceModeEnumeration))\n",
    "\n",
    "\n",
    "# Data Properties -------------------------------------------------------------------------\n",
    "# This needs to be checked again \n",
    "ontoGraph.add((schema.additionalType, RDF.type, OWL.DatatypeProperty))\n",
    "\n",
    "ontoGraph.add((schema.address, RDF.type, OWL.DatatypeProperty))\n",
    "\n",
    "ontoGraph.add((schema.archivedAt, RDF.type, OWL.DatatypeProperty))\n",
    "ontoGraph.add((schema.archivedAt, RDFS.domain, schema.CreativeWork))\n",
    "\n",
    "\n",
    "ontoGraph.add((schema.description, RDF.type, OWL.DatatypeProperty))\n",
    "\n",
    "\n",
    "ontoGraph.add((schema.embedUrl, RDF.type, OWL.DatatypeProperty))\n",
    "ontoGraph.add((schema.embedUrl, RDFS.domain, schema.VideoObject))\n",
    "\n",
    "ontoGraph.add((schema.name, RDF.type, OWL.DatatypeProperty))\n",
    "\n",
    "ontoGraph.add((schema.keywords, RDF.type, OWL.DatatypeProperty))\n",
    "\n",
    "ontoGraph.add((schema.description, RDF.type, OWL.DatatypeProperty))\n",
    "\n",
    "ontoGraph.add((schema.jobTitle, RDF.type, OWL.DatatypeProperty))\n",
    "\n",
    "ontoGraph.add((schema.sameAs, RDF.type, OWL.DatatypeProperty))\n",
    "ontoGraph.add((schema.sameAs, RDFS.range, XSD.anyURI))\n",
    "\n",
    "ontoGraph.add((kgc.linkedIn, RDF.type, OWL.DatatypeProperty))\n",
    "ontoGraph.add((schema.linkedIn, RDFS.range, XSD.anyURI))\n",
    "\n",
    "\n",
    "\n"
   ]
  },
  {
   "cell_type": "code",
   "execution_count": null,
   "metadata": {},
   "outputs": [],
   "source": []
  },
  {
   "cell_type": "markdown",
   "metadata": {},
   "source": [
    "## Serialize"
   ]
  },
  {
   "cell_type": "code",
   "execution_count": 16,
   "metadata": {},
   "outputs": [
    {
     "data": {
      "text/plain": [
       "<Graph identifier=Nad5c7fef40444ba898f2020b172f19ad (<class 'rdflib.graph.Graph'>)>"
      ]
     },
     "execution_count": 16,
     "metadata": {},
     "output_type": "execute_result"
    }
   ],
   "source": [
    "ontoGraph.serialize(destination = \"ontology.ttl\", format = \"turtle\")"
   ]
  },
  {
   "cell_type": "code",
   "execution_count": null,
   "metadata": {},
   "outputs": [],
   "source": []
  }
 ],
 "metadata": {
  "kernelspec": {
   "display_name": "Python 3",
   "language": "python",
   "name": "python3"
  },
  "language_info": {
   "codemirror_mode": {
    "name": "ipython",
    "version": 3
   },
   "file_extension": ".py",
   "mimetype": "text/x-python",
   "name": "python",
   "nbconvert_exporter": "python",
   "pygments_lexer": "ipython3",
   "version": "3.8.3"
  }
 },
 "nbformat": 4,
 "nbformat_minor": 4
}
