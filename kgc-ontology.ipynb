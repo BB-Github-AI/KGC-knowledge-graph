{
 "cells": [
  {
   "cell_type": "code",
   "execution_count": 1,
   "metadata": {},
   "outputs": [],
   "source": [
    "from rdflib import URIRef, BNode, Literal, Graph, plugin, Namespace\n",
    "from rdflib.serializer import Serializer \n",
    "from rdflib.namespace import FOAF, DC, RDF, RDFS, OWL, SKOS, NamespaceManager\n",
    "import csv"
   ]
  },
  {
   "cell_type": "code",
   "execution_count": null,
   "metadata": {},
   "outputs": [],
   "source": []
  },
  {
   "cell_type": "markdown",
   "metadata": {},
   "source": [
    "## Create the Ontology"
   ]
  },
  {
   "cell_type": "code",
   "execution_count": 2,
   "metadata": {},
   "outputs": [],
   "source": [
    "ontoGraph = Graph()"
   ]
  },
  {
   "cell_type": "code",
   "execution_count": 3,
   "metadata": {},
   "outputs": [],
   "source": [
    "nmGraph = NamespaceManager(ontoGraph)\n",
    "schema = Namespace(\"http://schema.org/\")\n",
    "nmGraph.bind(\"schema\", schema)\n",
    "wd = Namespace(\"http://www.wikidata.org/entity/\")\n",
    "nmGraph.bind(\"wd\", wd)\n",
    "owl = Namespace(\"http://www.w3.org/2002/07/owl#\")\n",
    "nmGraph.bind(\"owl\", owl)\n",
    "skos = Namespace(\"http://www.w3.org/2004/02/skos/core#\")\n",
    "nmGraph.bind(\"skos\", skos)\n",
    "kgc = Namespace(\"http://www.knowledgegraph.tech/\")\n",
    "nmGraph.bind(\"kgc\", kgc)\n",
    "owl = Namespace(\"http://www.w3.org/2002/07/owl#\")\n",
    "nmGraph.bind(\"owl\", owl)\n",
    "rdf = Namespace(\"http://www.w3.org/1999/02/22-rdf-syntax-ns#\")\n",
    "nmGraph.bind(\"rdf\", rdf)\n",
    "rdfs = Namespace(\"http://www.w3.org/2000/01/rdf-schema#\")\n",
    "nmGraph.bind(\"rdfs\", rdfs)\n",
    "xml = Namespace(\"http://www.w3.org/XML/1998/namespace\")\n",
    "nmGraph.bind(\"xml\", xml) \n",
    "xsd = Namespace(\"http://www.w3.org/2001/XMLSchema#\")\n",
    "nmGraph.bind(\"xsd\", xsd) "
   ]
  },
  {
   "cell_type": "markdown",
   "metadata": {},
   "source": [
    "## Create Ontology Labels"
   ]
  },
  {
   "cell_type": "code",
   "execution_count": null,
   "metadata": {},
   "outputs": [],
   "source": [
    "# Test this later on\n",
    "# ontoGraph.add((kgc?, RDF.type, owl.Ontology))\n",
    "# ontoGraph.add((kgc?, RDFS.label, \"Knowledge Graph Conference Ontology\"))\n",
    "# ontoGraph.add((kgc?, DC.creator, \"Bita Banihashemi\"))\n"
   ]
  },
  {
   "cell_type": "markdown",
   "metadata": {},
   "source": [
    "## Create the classes/types"
   ]
  },
  {
   "cell_type": "code",
   "execution_count": 4,
   "metadata": {},
   "outputs": [
    {
     "data": {
      "text/plain": [
       "<Graph identifier=N9f538b707fd249cfa2dd3db5e92fae50 (<class 'rdflib.graph.Graph'>)>"
      ]
     },
     "execution_count": 4,
     "metadata": {},
     "output_type": "execute_result"
    }
   ],
   "source": [
    "# Creative Work -------------------------------------------------------------------------------\n",
    "ontoGraph.add((schema.CreativeWork, RDF.type, owl.Class))\n",
    "\n",
    "ontoGraph.add((schema.DigitalDocument, RDF.type, owl.Class))\n",
    "ontoGraph.add((schema.DigitalDocument, RDFS.subClassOf, schema.CreativeWork))\n",
    "\n",
    "ontoGraph.add((schema.MediaObject, RDF.type, owl.Class))\n",
    "ontoGraph.add((schema.MediaObject, RDFS.subClassOf, schema.CreativeWork))\n",
    "\n",
    "ontoGraph.add((schema.PresentationDigitalDocument, RDF.type, owl.Class))\n",
    "ontoGraph.add((schema.PresentationDigitalDocument, RDFS.subClassOf, schema.DigitalDocument))\n",
    "\n",
    "ontoGraph.add((schema.VideoObject, RDF.type, owl.Class))\n",
    "ontoGraph.add((schema.VideoObject, RDFS.subClassOf, schema.MediaObject))\n",
    "\n",
    "\n",
    "\n",
    "# Organization ------------------------------------------------------------------------------\n",
    "ontoGraph.add((schema.Organization, RDF.type, owl.Class))\n",
    "\n",
    "ontoGraph.add((schema.EducationalOrganization, RDF.type, owl.Class))\n",
    "ontoGraph.add((schema.EducationalOrganization, RDFS.subClassOf, schema.Organization))\n",
    "\n",
    "ontoGraph.add((schema.Consortium, RDF.type, owl.Class))\n",
    "ontoGraph.add((schema.Consortium, RDFS.subClassOf, schema.Organization))\n",
    "\n",
    "ontoGraph.add((schema.CollegeOrUniversity, RDF.type, owl.Class))\n",
    "ontoGraph.add((schema.CollegeOrUniversity, RDFS.subClassOf, schema.EducationalOrganization))\n",
    "\n",
    "\n",
    "# Event ------------------------------------------------------------------------------\n",
    "ontoGraph.add((schema.Event, RDF.type, owl.Class))\n",
    "\n",
    "ontoGraph.add((schema.EventSeries, RDF.type, owl.Class))\n",
    "ontoGraph.add((schema.EventSeries, RDFS.subClassOf, schema.Event))\n",
    "\n",
    "ontoGraph.add((kgc.Conference, RDF.type, owl.Class))\n",
    "ontoGraph.add((kgc.Conference, RDFS.subClassOf, schema.Event))\n",
    "\n",
    "ontoGraph.add((kgc.Workshop, RDF.type, owl.Class))\n",
    "ontoGraph.add((kgc.Workshop, RDFS.subClassOf, schema.Event))\n",
    "\n",
    "ontoGraph.add((kgc.Tutorial, RDF.type, owl.Class))\n",
    "ontoGraph.add((kgc.Tutorial, RDFS.subClassOf, schema.Event))\n",
    "\n",
    "ontoGraph.add((kgc.Talk, RDF.type, owl.Class))\n",
    "ontoGraph.add((kgc.Talk, RDFS.subClassOf, schema.Event))\n",
    "\n",
    "\n",
    "#  Person ------------------------------------------------------------------------------\n",
    "ontoGraph.add((schema.Person, RDF.type, owl.Class))\n",
    "\n",
    "\n",
    "#  Place ------------------------------------------------------------------------------\n",
    "ontoGraph.add((schema.Place, RDF.type, owl.Class))\n",
    "\n",
    "ontoGraph.add((schema.AdministrativeArea, RDF.type, owl.Class))\n",
    "ontoGraph.add((schema.AdministrativeArea, RDFS.subClassOf, schema.Place))\n",
    "\n",
    "ontoGraph.add((schema.City, RDF.type, owl.Class))\n",
    "ontoGraph.add((schema.CivicStructure, RDFS.subClassOf, schema.AdministrativeArea))\n",
    "\n",
    "ontoGraph.add((schema.State, RDF.type, owl.Class))\n",
    "ontoGraph.add((schema.State, RDFS.subClassOf, schema.AdministrativeArea))\n",
    "\n",
    "ontoGraph.add((schema.Country, RDF.type, owl.Class))\n",
    "ontoGraph.add((schema.Country, RDFS.subClassOf, schema.AdministrativeArea))\n",
    "\n",
    "\n",
    "\n",
    "ontoGraph.add((schema.CivicStructure, RDF.type, owl.Class))\n",
    "ontoGraph.add((schema.CivicStructure, RDFS.subClassOf, schema.Place))\n",
    "\n",
    "ontoGraph.add((schema.EducationalOrganization, RDFS.subClassOf, schema.CivicStructure))\n",
    "\n",
    "\n",
    "\n",
    "\n"
   ]
  },
  {
   "cell_type": "code",
   "execution_count": null,
   "metadata": {},
   "outputs": [],
   "source": []
  },
  {
   "cell_type": "markdown",
   "metadata": {},
   "source": [
    "## Create the properties"
   ]
  },
  {
   "cell_type": "code",
   "execution_count": null,
   "metadata": {},
   "outputs": [],
   "source": [
    "# Object Properties -------------------------------------------------------------------------\n",
    "# This needs to be checked again \n",
    "\n",
    "ontoGraph.add((schema.alumniOf, RDF.type, owl.ObjectProperty))\n",
    "ontoGraph.add((schema.alumniOf, RDF.type, owl.FunctionalProperty))\n",
    "ontoGraph.add((schema.alumniOf, RDFS.domain, schema.Person))\n",
    "ontoGraph.add((schema.alumniOf, RDFS.range, schema.CollegeOrUniversity))\n",
    "\n",
    "ontoGraph.add((schema.geoWithin, RDF.type, owl.ObjectProperty))\n",
    "# Check why or why not functional\n",
    "ontoGraph.add((schema.geoWithin, RDFS.domain, schema.Place))\n",
    "ontoGraph.add((schema.geoWithin, RDFS.range, schema.AdministrativeArea))\n",
    "\n",
    "\n",
    "ontoGraph.add((schema.industry, RDF.type, owl.ObjectProperty))\n",
    "\n",
    "ontoGraph.add((schema.knowsAbout, RDF.type, owl.ObjectProperty))\n",
    "\n",
    "\n",
    "ontoGraph.add((schema.location, RDF.type, owl.ObjectProperty))\n",
    "ontoGraph.add((schema.location, RDFS.domain, schema.Organization))\n",
    "ontoGraph.add((schema.location, RDFS.range, schema.AdministrativeArea))\n",
    "\n",
    "\n",
    "ontoGraph.add((schema.memberOf, RDF.type, owl.ObjectProperty))\n",
    "ontoGraph.add((schema.memberOf, RDFS.range, schema.Organization))\n",
    "\n",
    "ontoGraph.add((schema.nationality, RDF.type, owl.ObjectProperty))\n",
    "ontoGraph.add((schema.nationality, RDFS.domain, schema.Person))\n",
    "ontoGraph.add((schema.nationality, RDFS.range, schema.Country))\n",
    "\n",
    "ontoGraph.add((schema.performer, RDF.type, owl.ObjectProperty))\n",
    "ontoGraph.add((schema.performer, RDFS.domain, schema.Event))\n",
    "ontoGraph.add((schema.performer, RDFS.range, schema.Person))\n",
    "\n",
    "\n",
    "ontoGraph.add((schema.sameAs, RDF.type, owl.ObjectProperty))\n",
    "\n",
    "ontoGraph.add((schema.worksfor, RDF.type, owl.ObjectProperty))\n",
    "ontoGraph.add((schema.worksfor, RDFS.domain, schema.Person))\n",
    "ontoGraph.add((schema.worksfor, RDFS.range, schema.Organization))\n",
    "\n",
    "ontoGraph.add((skos.broader, RDF.type, owl.ObjectProperty))\n",
    "\n",
    "ontoGraph.add((skos.narrower, RDF.type, owl.ObjectProperty))\n",
    "\n",
    "\n",
    "\n",
    "\n",
    "# Data Properties -------------------------------------------------------------------------\n",
    "# This needs to be checked again \n",
    "ontoGraph.add((schema.additionalType, RDF.type, owl.DatatypeProperty))\n",
    "\n",
    "ontoGraph.add((schema.address, RDF.type, owl.DatatypeProperty))\n",
    "\n",
    "\n",
    "###  http://schema.org/archivedAt\n",
    "<http://schema.org/archivedAt> rdf:type owl:DatatypeProperty ;\n",
    "                               rdfs:domain <http://schema.org/CreativeWork> .\n",
    "\n",
    "\n",
    "###  http://schema.org/description\n",
    "<http://schema.org/description> rdf:type owl:DatatypeProperty .\n",
    "\n",
    "\n",
    "###  http://schema.org/embedUrl\n",
    "<http://schema.org/embedUrl> rdf:type owl:DatatypeProperty ;\n",
    "                             rdfs:domain <http://schema.org/VideoObject> .\n",
    "\n",
    "\n",
    "###  http://schema.org/eventAttendanceMode\n",
    "<http://schema.org/eventAttendanceMode> rdf:type owl:DatatypeProperty .\n",
    "\n",
    "\n",
    "###  http://schema.org/keywords\n",
    "<http://schema.org/keywords> rdf:type owl:DatatypeProperty .\n",
    "\n",
    "\n",
    "###  http://schema.org/name\n",
    "<http://schema.org/name> rdf:type owl:DatatypeProperty .\n",
    "\n"
   ]
  },
  {
   "cell_type": "code",
   "execution_count": null,
   "metadata": {},
   "outputs": [],
   "source": []
  },
  {
   "cell_type": "markdown",
   "metadata": {},
   "source": [
    "## Serialize"
   ]
  },
  {
   "cell_type": "code",
   "execution_count": 5,
   "metadata": {},
   "outputs": [
    {
     "data": {
      "text/plain": [
       "<Graph identifier=N9f538b707fd249cfa2dd3db5e92fae50 (<class 'rdflib.graph.Graph'>)>"
      ]
     },
     "execution_count": 5,
     "metadata": {},
     "output_type": "execute_result"
    }
   ],
   "source": [
    "ontoGraph.serialize(destination = \"ontology.ttl\", format = \"turtle\")"
   ]
  },
  {
   "cell_type": "code",
   "execution_count": null,
   "metadata": {},
   "outputs": [],
   "source": []
  },
  {
   "cell_type": "code",
   "execution_count": null,
   "metadata": {},
   "outputs": [],
   "source": []
  }
 ],
 "metadata": {
  "kernelspec": {
   "display_name": "Python 3",
   "language": "python",
   "name": "python3"
  },
  "language_info": {
   "codemirror_mode": {
    "name": "ipython",
    "version": 3
   },
   "file_extension": ".py",
   "mimetype": "text/x-python",
   "name": "python",
   "nbconvert_exporter": "python",
   "pygments_lexer": "ipython3",
   "version": "3.8.3"
  }
 },
 "nbformat": 4,
 "nbformat_minor": 4
}
