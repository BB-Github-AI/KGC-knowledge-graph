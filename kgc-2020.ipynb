{
 "cells": [
  {
   "cell_type": "code",
   "execution_count": 1,
   "metadata": {},
   "outputs": [],
   "source": [
    "from rdflib import URIRef, BNode, Literal, Graph, plugin, Namespace\n",
    "from rdflib.serializer import Serializer \n",
    "from rdflib.namespace import FOAF, DC, RDF, RDFS, OWL, SKOS, NamespaceManager\n",
    "import csv"
   ]
  },
  {
   "cell_type": "code",
   "execution_count": null,
   "metadata": {},
   "outputs": [],
   "source": []
  },
  {
   "cell_type": "code",
   "execution_count": null,
   "metadata": {},
   "outputs": [],
   "source": []
  },
  {
   "cell_type": "code",
   "execution_count": 2,
   "metadata": {},
   "outputs": [
    {
     "data": {
      "text/plain": [
       "<Graph identifier=Nbaa15b7ea3ef49b58f548b76bfd58e1c (<class 'rdflib.graph.Graph'>)>"
      ]
     },
     "execution_count": 2,
     "metadata": {},
     "output_type": "execute_result"
    }
   ],
   "source": [
    "kgc2020 = Graph()\n",
    "kgc2020.parse('./ontology.ttl', format='ttl')"
   ]
  },
  {
   "cell_type": "code",
   "execution_count": 3,
   "metadata": {},
   "outputs": [],
   "source": [
    "nmGraph = NamespaceManager(kgc2020)\n",
    "schema = Namespace(\"http://schema.org/\")\n",
    "nmGraph.bind(\"schema\", schema)\n",
    "wd = Namespace(\"http://www.wikidata.org/entity/\")\n",
    "nmGraph.bind(\"wd\", wd)\n",
    "owl = Namespace(\"http://www.w3.org/2002/07/owl#\")\n",
    "nmGraph.bind(\"owl\", owl)\n",
    "skos = Namespace(\"http://www.w3.org/2004/02/skos/core#\")\n",
    "nmGraph.bind(\"skos\", skos)\n",
    "kgc = Namespace(\"http://www.knowledgegraph.tech/iri/\")\n",
    "nmGraph.bind(\"kgc\", kgc)\n",
    "owl = Namespace(\"http://www.w3.org/2002/07/owl#\")\n",
    "nmGraph.bind(\"owl\", owl)\n",
    "rdf = Namespace(\"http://www.w3.org/1999/02/22-rdf-syntax-ns#\")\n",
    "nmGraph.bind(\"rdf\", rdf)\n",
    "rdfs = Namespace(\"http://www.w3.org/2000/01/rdf-schema#\")\n",
    "nmGraph.bind(\"rdfs\", rdfs)\n",
    "xml = Namespace(\"http://www.w3.org/XML/1998/namespace\")\n",
    "nmGraph.bind(\"xml\", xml) \n",
    "xsd = Namespace(\"http://www.w3.org/2001/XMLSchema#\")\n",
    "nmGraph.bind(\"xsd\", xsd) "
   ]
  },
  {
   "cell_type": "code",
   "execution_count": null,
   "metadata": {},
   "outputs": [],
   "source": []
  },
  {
   "cell_type": "code",
   "execution_count": null,
   "metadata": {},
   "outputs": [],
   "source": []
  },
  {
   "cell_type": "code",
   "execution_count": null,
   "metadata": {},
   "outputs": [],
   "source": []
  },
  {
   "cell_type": "markdown",
   "metadata": {},
   "source": [
    "## Adding Instances "
   ]
  },
  {
   "cell_type": "code",
   "execution_count": null,
   "metadata": {},
   "outputs": [],
   "source": [
    "# Initializations \n",
    "StartNo = '000000'\n",
    "LastID = 1\n",
    "labelDict = {}"
   ]
  },
  {
   "cell_type": "code",
   "execution_count": null,
   "metadata": {},
   "outputs": [],
   "source": []
  },
  {
   "cell_type": "code",
   "execution_count": null,
   "metadata": {},
   "outputs": [],
   "source": []
  },
  {
   "cell_type": "code",
   "execution_count": null,
   "metadata": {},
   "outputs": [],
   "source": []
  },
  {
   "cell_type": "code",
   "execution_count": null,
   "metadata": {},
   "outputs": [],
   "source": [
    "# No need to check for existing ones! in 2021, 2022 I need to add\n"
   ]
  },
  {
   "cell_type": "code",
   "execution_count": null,
   "metadata": {},
   "outputs": [],
   "source": [
    "#KGC2021 = URIRef((\"http://www.knowledgegraph.tech/conference-2021\"))\n",
    "#kgc2023.add((KGC2021, OWL.sameAs, wd.Q106704796))\n",
    "#kgc2023.add((KGC2021, schema.name, Literal(\"Knowledge Graph Conference 2021\")))\n",
    "#kgc2023.add((KGC2021, RDF.type, schema.Event))\n",
    "#kgc2023.add((KGC2021, schema.superEvent, KGC))\n",
    "#kgc2023.add((KGC2021, schema.eventAttendanceMode, schema.OnlineEventAttendanceMode))"
   ]
  },
  {
   "cell_type": "code",
   "execution_count": null,
   "metadata": {},
   "outputs": [],
   "source": []
  },
  {
   "cell_type": "code",
   "execution_count": null,
   "metadata": {},
   "outputs": [],
   "source": []
  }
 ],
 "metadata": {
  "kernelspec": {
   "display_name": "Python 3",
   "language": "python",
   "name": "python3"
  },
  "language_info": {
   "codemirror_mode": {
    "name": "ipython",
    "version": 3
   },
   "file_extension": ".py",
   "mimetype": "text/x-python",
   "name": "python",
   "nbconvert_exporter": "python",
   "pygments_lexer": "ipython3",
   "version": "3.8.3"
  }
 },
 "nbformat": 4,
 "nbformat_minor": 4
}
