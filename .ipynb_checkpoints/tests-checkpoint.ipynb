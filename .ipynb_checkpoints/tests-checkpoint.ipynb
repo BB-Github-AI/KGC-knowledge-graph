{
 "cells": [
  {
   "cell_type": "code",
   "execution_count": 15,
   "metadata": {},
   "outputs": [],
   "source": [
    "from rdflib.namespace import FOAF, DC, RDF, RDFS, OWL, SKOS, NamespaceManager # Shcema no?\n",
    "from rdflib import Graph, Literal, Namespace, URIRef"
   ]
  },
  {
   "cell_type": "code",
   "execution_count": 16,
   "metadata": {},
   "outputs": [],
   "source": [
    "# Construct the linked data tools namespace\n",
    "BN = Namespace(\"http://www.SomeDomain.org/stuff#\")\n",
    "\n",
    "nmGraph = NamespaceManager(graph)\n",
    "schema = Namespace(\"http://schema.org/\")\n",
    "nmGraph.bind(\"schema\", schema)"
   ]
  },
  {
   "cell_type": "code",
   "execution_count": 17,
   "metadata": {},
   "outputs": [],
   "source": [
    "# Create the graph\n",
    "graph = Graph()"
   ]
  },
  {
   "cell_type": "code",
   "execution_count": 18,
   "metadata": {},
   "outputs": [],
   "source": [
    "# Create the node to add to the Graph\n",
    "Plant = URIRef(BN[\"planttype\"])"
   ]
  },
  {
   "cell_type": "code",
   "execution_count": 19,
   "metadata": {},
   "outputs": [
    {
     "data": {
      "text/plain": [
       "<Graph identifier=Nd7c3bda53dd34f6880ff1107ce5c2d90 (<class 'rdflib.graph.Graph'>)>"
      ]
     },
     "execution_count": 19,
     "metadata": {},
     "output_type": "execute_result"
    }
   ],
   "source": [
    "# Add the OWL data to the graph\n",
    "graph.add((Plant, RDF.type, OWL.Class))\n",
    "graph.add((Plant, RDFS.subClassOf, OWL.Thing))\n",
    "graph.add((Plant, RDFS.label, Literal(\"The plant type\")))\n",
    "graph.add((Plant, RDFS.comment, Literal(\"The class of all plant types\")))"
   ]
  },
  {
   "cell_type": "code",
   "execution_count": 20,
   "metadata": {},
   "outputs": [
    {
     "data": {
      "text/plain": [
       "<Graph identifier=Nd7c3bda53dd34f6880ff1107ce5c2d90 (<class 'rdflib.graph.Graph'>)>"
      ]
     },
     "execution_count": 20,
     "metadata": {},
     "output_type": "execute_result"
    }
   ],
   "source": [
    "# Add the  data to the graph\n",
    "Plant2 = URIRef(BN[\"planttype2\"])\n",
    "graph.add((Plant2, RDF.type, schema.Person))\n",
    "#graph.add((Plant2, RDFS.label, Literal(\"The plant type of Number 2\")))\n",
    "#graph.add((Plant2, RDFS.comment, Literal(\"The class of all plant types etc\")))\n"
   ]
  },
  {
   "cell_type": "code",
   "execution_count": 21,
   "metadata": {},
   "outputs": [],
   "source": [
    "# Bind the OWL and LDT name spaces\n",
    "graph.bind(\"owl\", OWL)\n",
    "graph.bind(\"bn\", BN)\n"
   ]
  },
  {
   "cell_type": "code",
   "execution_count": 22,
   "metadata": {},
   "outputs": [
    {
     "data": {
      "text/plain": [
       "<Graph identifier=Nd7c3bda53dd34f6880ff1107ce5c2d90 (<class 'rdflib.graph.Graph'>)>"
      ]
     },
     "execution_count": 22,
     "metadata": {},
     "output_type": "execute_result"
    }
   ],
   "source": [
    "graph.serialize(destination = \"grPlant-V01.ttl\", format = \"turtle\")"
   ]
  }
 ],
 "metadata": {
  "kernelspec": {
   "display_name": "Python 3",
   "language": "python",
   "name": "python3"
  },
  "language_info": {
   "codemirror_mode": {
    "name": "ipython",
    "version": 3
   },
   "file_extension": ".py",
   "mimetype": "text/x-python",
   "name": "python",
   "nbconvert_exporter": "python",
   "pygments_lexer": "ipython3",
   "version": "3.8.3"
  }
 },
 "nbformat": 4,
 "nbformat_minor": 4
}
